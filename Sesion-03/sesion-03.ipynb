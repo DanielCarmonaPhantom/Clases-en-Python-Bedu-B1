{
 "cells": [
  {
   "cell_type": "markdown",
   "metadata": {},
   "source": [
    "# Sesión 3"
   ]
  },
  {
   "cell_type": "markdown",
   "metadata": {},
   "source": [
    "Args y kwargs"
   ]
  },
  {
   "cell_type": "markdown",
   "metadata": {},
   "source": [
    "## Ejemplo 1"
   ]
  },
  {
   "cell_type": "markdown",
   "metadata": {},
   "source": [
    "Existen dos tipos de argumentos en Python: los convencionales y aquellos que están sujetos a un nombre específico, generalmente identificados como args (arguments) y kwargs (keyword arguments), respectivamente.\n",
    "\n",
    "Para obtener un número indeterminado de argumentos usamos *args, los argumentos en *args se consideran una tupla y se puede iterar sobre ellos."
   ]
  },
  {
   "cell_type": "code",
   "execution_count": 5,
   "metadata": {},
   "outputs": [
    {
     "name": "stdout",
     "output_type": "stream",
     "text": [
      "Hola\n",
      "A\n",
      "Todos\n",
      "!\n"
     ]
    }
   ],
   "source": [
    "def imprime(*args):  \n",
    "    for arg in args:  \n",
    "        print (arg) \n",
    "    \n",
    "imprime('Hola', 'A', 'Todos', '!')"
   ]
  },
  {
   "cell_type": "markdown",
   "metadata": {},
   "source": [
    "Se pueden mezclar argumentos comunes con args"
   ]
  },
  {
   "cell_type": "code",
   "execution_count": 2,
   "metadata": {},
   "outputs": [
    {
     "name": "stdout",
     "output_type": "stream",
     "text": [
      "Bienvenidos \n",
      "a\n",
      "Bedu\n",
      "Bienvenidos \n",
      "a\n",
      "Bedu\n",
      "Bienvenidos \n",
      "a\n",
      "Bedu\n"
     ]
    }
   ],
   "source": [
    "def imprime_varias_veces(veces, *argv): \n",
    "    for i in range(veces):\n",
    "        for arg in argv:\n",
    "            print(arg)\n",
    "\n",
    "  \n",
    "imprime_varias_veces(3, 'Bienvenidos ', 'a', 'Bedu') "
   ]
  },
  {
   "cell_type": "markdown",
   "metadata": {},
   "source": [
    "**kwargs nos permite pasar argumentos nombrados (también un número indeterminado)"
   ]
  },
  {
   "cell_type": "code",
   "execution_count": 3,
   "metadata": {},
   "outputs": [
    {
     "name": "stdout",
     "output_type": "stream",
     "text": [
      "Hola Luis de Bedu\n",
      "Hola Luis de Bedu\n"
     ]
    }
   ],
   "source": [
    "def saludo(**kwargs):\n",
    "    print('Hola {} de {}'.format(kwargs['nombre'], kwargs['empresa']))\n",
    "\n",
    "saludo(empresa='Bedu',nombre='Luis')\n",
    "saludo(nombre='Luis',empresa='Bedu')"
   ]
  },
  {
   "cell_type": "markdown",
   "metadata": {},
   "source": [
    "Los valores se tratan como un diccionario y se pueden utilizar sus llaves y valores"
   ]
  },
  {
   "cell_type": "code",
   "execution_count": 4,
   "metadata": {},
   "outputs": [
    {
     "name": "stdout",
     "output_type": "stream",
     "text": [
      "nombre == Fernando\n",
      "empresa == Bedu\n",
      "ciudad == CDMX\n"
     ]
    }
   ],
   "source": [
    "def myFun(**kwargs):  \n",
    "    for key, value in kwargs.items(): \n",
    "        print (\"%s == %s\" %(key, value)) \n",
    "  \n",
    "myFun(nombre ='Fernando', empresa ='Bedu', ciudad='CDMX') "
   ]
  },
  {
   "cell_type": "markdown",
   "metadata": {},
   "source": [
    "<strong>Ejemplo:</strong> Modifica el script `inmuebles.py` para que solicite el Tipo de inmueble al usuario desde la entrada estándar, ejecutar el script para ver tipos de inmuebles disponibles. El usuario deberá poder indicar uno, dos o más tipos de inmuebles, entonces se deberá imprimir la lista de inmuebles cuyo tipo coincida con los indicados por el usuario"
   ]
  },
  {
   "cell_type": "code",
   "execution_count": null,
   "metadata": {},
   "outputs": [],
   "source": [
    "import csv\n",
    "\n",
    "def lee_datos(nom_arch):\n",
    "    \"\"\" \n",
    "    Lee todos los datos del archivo nom_arch y lo regresa como una lista\n",
    "    \"\"\"\n",
    "    with open(nom_arch) as arch:\n",
    "        csv_lector = csv.reader(arch)\n",
    "        lista = list(csv_lector)\n",
    "\n",
    "    return lista\n",
    "\n",
    "def imprime_lista(inmuebles):\n",
    "    \"\"\"\n",
    "    Imprime la lista de inmuebles en la salida estándar\n",
    "    \"\"\"\n",
    "    columnas = zip(*inmuebles)\n",
    "    tamanios = [len(max(col, key=len)) for col in columnas]\n",
    "    formatos = [\"{:\"+str(t)+\"}\" for t in tamanios]\n",
    "    linea = \" \".join(formatos)\n",
    "    for fila in inmuebles:\n",
    "        print(linea.format(*fila))\n",
    "        \n",
    "\n",
    "def lee_palabras():\n",
    "    \"\"\"\n",
    "    Lee las palabras que representan un Tipo de inmueble \n",
    "    \"\"\"\n",
    "    palabras = input(\"Escribe los tipos de inmubles separados por espacio \").split()\n",
    "    return palabras\n",
    "\n",
    "def filtra_por(inmuebles, tipos):\n",
    "    \"\"\"\n",
    "    Filtra la lista de inmuebles con base a las palabras en *args que representan el Tipo de inmueble. Regresa la lista filtrada\n",
    "    \"\"\"\n",
    "    filtrados = []\n",
    "    for inmueble in inmuebles:        \n",
    "        if inmueble[2] in tipos:\n",
    "            filtrados.append(inmueble)\n",
    "    return filtrados\n",
    "\n",
    "def main():\n",
    "    inmuebles= lee_datos(\"inmuebles.csv\")\n",
    "    palabras = lee_palabras()\n",
    "    print(palabras)\n",
    "    filtrados = filtra_por(inmuebles, palabras)\n",
    "\n",
    "    imprime_lista(filtrados)\n",
    "\n",
    "if __name__ == '__main__':\n",
    "    main();"
   ]
  },
  {
   "cell_type": "code",
   "execution_count": 4,
   "metadata": {},
   "outputs": [
    {
     "data": {
      "text/plain": [
       "['Oficina', 'Casa']"
      ]
     },
     "execution_count": 4,
     "metadata": {},
     "output_type": "execute_result"
    }
   ],
   "source": [
    "\"Oficina Casa\".split()"
   ]
  },
  {
   "cell_type": "code",
   "execution_count": null,
   "metadata": {},
   "outputs": [],
   "source": []
  }
 ],
 "metadata": {
  "interpreter": {
   "hash": "f9f85f796d01129d0dd105a088854619f454435301f6ffec2fea96ecbd9be4ac"
  },
  "kernelspec": {
   "display_name": "Python 3.9.5 64-bit",
   "language": "python",
   "name": "python3"
  },
  "language_info": {
   "codemirror_mode": {
    "name": "ipython",
    "version": 3
   },
   "file_extension": ".py",
   "mimetype": "text/x-python",
   "name": "python",
   "nbconvert_exporter": "python",
   "pygments_lexer": "ipython3",
   "version": "3.9.5"
  },
  "orig_nbformat": 4
 },
 "nbformat": 4,
 "nbformat_minor": 2
}

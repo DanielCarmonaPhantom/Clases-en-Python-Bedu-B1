{
 "cells": [
  {
   "cell_type": "markdown",
   "metadata": {},
   "source": [
    "# Sesión 3"
   ]
  },
  {
   "cell_type": "markdown",
   "metadata": {},
   "source": [
    "Args y kwargs"
   ]
  },
  {
   "cell_type": "markdown",
   "metadata": {},
   "source": [
    "## Ejemplo 1"
   ]
  },
  {
   "cell_type": "markdown",
   "metadata": {},
   "source": [
    "Existen dos tipos de argumentos en Python: los convencionales y aquellos que están sujetos a un nombre específico, generalmente identificados como args (arguments) y kwargs (keyword arguments), respectivamente.\n",
    "\n",
    "Para obtener un número indeterminado de argumentos usamos *args, los argumentos en *args se consideran una tupla y se puede iterar sobre ellos."
   ]
  },
  {
   "cell_type": "code",
   "execution_count": 1,
   "metadata": {},
   "outputs": [
    {
     "name": "stdout",
     "output_type": "stream",
     "text": [
      "Hola\n",
      "A\n",
      "Todos\n",
      "!\n"
     ]
    }
   ],
   "source": [
    "def imprime(*a2gs):  \n",
    "    for arg in a2gs:  \n",
    "        print (arg) \n",
    "    \n",
    "imprime('Hola', 'A', 'Todos', '!')"
   ]
  },
  {
   "cell_type": "markdown",
   "metadata": {},
   "source": [
    "Se pueden mezclar argumentos comunes con args"
   ]
  },
  {
   "cell_type": "code",
   "execution_count": 2,
   "metadata": {},
   "outputs": [
    {
     "name": "stdout",
     "output_type": "stream",
     "text": [
      "Bienvenidos \n",
      "a\n",
      "Bedu\n",
      "Bienvenidos \n",
      "a\n",
      "Bedu\n",
      "Bienvenidos \n",
      "a\n",
      "Bedu\n"
     ]
    }
   ],
   "source": [
    "def imprime_varias_veces(veces, *argv): \n",
    "    for i in range(veces):\n",
    "        for arg in argv:\n",
    "            print(arg)\n",
    "\n",
    "  \n",
    "imprime_varias_veces(3, 'Bienvenidos ', 'a', 'Bedu') "
   ]
  },
  {
   "cell_type": "markdown",
   "metadata": {},
   "source": [
    "**kwargs nos permite pasar argumentos nombrados (también un número indeterminado)"
   ]
  },
  {
   "cell_type": "code",
   "execution_count": 3,
   "metadata": {},
   "outputs": [
    {
     "name": "stdout",
     "output_type": "stream",
     "text": [
      "Hola Luis de Bedu\n",
      "Hola Luis de Bedu\n"
     ]
    }
   ],
   "source": [
    "def saludo(**kwargs):\n",
    "    print('Hola {} de {}'.format(kwargs['nombre'], kwargs['empresa']))\n",
    "\n",
    "saludo(empresa='Bedu',nombre='Luis')\n",
    "saludo(nombre='Luis',empresa='Bedu')"
   ]
  },
  {
   "cell_type": "markdown",
   "metadata": {},
   "source": [
    "Los valores se tratan como un diccionario y se pueden utilizar sus llaves y valores"
   ]
  },
  {
   "cell_type": "code",
   "execution_count": 4,
   "metadata": {},
   "outputs": [
    {
     "name": "stdout",
     "output_type": "stream",
     "text": [
      "nombre == Fernando\n",
      "empresa == Bedu\n",
      "ciudad == CDMX\n"
     ]
    }
   ],
   "source": [
    "def myFun(**kwargs):  \n",
    "    for key, value in kwargs.items(): \n",
    "        print (\"%s == %s\" %(key, value)) \n",
    "  \n",
    "myFun(nombre ='Fernando', empresa ='Bedu', ciudad='CDMX') "
   ]
  },
  {
   "cell_type": "markdown",
   "metadata": {},
   "source": [
    "<strong>Ejemplo:</strong> Modifica el script `inmuebles.py` para que solicite el Tipo de inmueble al usuario desde la entrada estándar, ejecutar el script para ver tipos de inmuebles disponibles. El usuario deberá poder indicar uno, dos o más tipos de inmuebles, entonces se deberá imprimir la lista de inmuebles cuyo tipo coincida con los indicados por el usuario"
   ]
  },
  {
   "cell_type": "code",
   "execution_count": null,
   "metadata": {},
   "outputs": [],
   "source": []
  }
 ],
 "metadata": {
  "interpreter": {
   "hash": "f9f85f796d01129d0dd105a088854619f454435301f6ffec2fea96ecbd9be4ac"
  },
  "kernelspec": {
   "display_name": "Python 3.9.5 64-bit",
   "language": "python",
   "name": "python3"
  },
  "language_info": {
   "codemirror_mode": {
    "name": "ipython",
    "version": 3
   },
   "file_extension": ".py",
   "mimetype": "text/x-python",
   "name": "python",
   "nbconvert_exporter": "python",
   "pygments_lexer": "ipython3",
   "version": "3.9.5"
  },
  "orig_nbformat": 4
 },
 "nbformat": 4,
 "nbformat_minor": 2
}

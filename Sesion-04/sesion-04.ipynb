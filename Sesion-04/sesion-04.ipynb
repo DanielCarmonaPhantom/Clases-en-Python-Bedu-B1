{
 "cells": [
  {
   "cell_type": "markdown",
   "metadata": {},
   "source": [
    "# Sesion 4"
   ]
  },
  {
   "cell_type": "markdown",
   "metadata": {},
   "source": [
    "## Ejemplo 1"
   ]
  },
  {
   "cell_type": "markdown",
   "metadata": {},
   "source": [
    "La programación orientada a objetos (POO) es un paradigma de programación basado en el mundo real. Las partes básicas son clases y objetos, así como su interacción entre ellas en nuestro programa.\n",
    "\n",
    "    Clase: Definición genérica a partir de la cual se elaboran objetos.\n",
    "\n",
    "    Objeto es una instancia de una clase. Entre ellas, sus atributos pueden ser tener diferentes valores.\n"
   ]
  },
  {
   "cell_type": "markdown",
   "metadata": {},
   "source": [
    "Importamos modulo que posee clases para fecha"
   ]
  },
  {
   "cell_type": "code",
   "execution_count": 1,
   "metadata": {},
   "outputs": [],
   "source": [
    "\n",
    "import datetime"
   ]
  },
  {
   "cell_type": "code",
   "execution_count": 8,
   "metadata": {},
   "outputs": [
    {
     "data": {
      "text/plain": [
       "datetime.datetime(2022, 5, 3, 21, 6, 9, 169365)"
      ]
     },
     "execution_count": 8,
     "metadata": {},
     "output_type": "execute_result"
    }
   ],
   "source": [
    "fecha_hora = datetime.datetime.today()\n",
    "fecha_hora"
   ]
  },
  {
   "cell_type": "markdown",
   "metadata": {},
   "source": [
    "Podemos acceder a elementosdentro del objeto"
   ]
  },
  {
   "cell_type": "code",
   "execution_count": 9,
   "metadata": {},
   "outputs": [
    {
     "name": "stdout",
     "output_type": "stream",
     "text": [
      "el mes es: 5\n",
      "el año es  2022\n"
     ]
    }
   ],
   "source": [
    "\n",
    "mes = fecha_hora.month\n",
    "anyo = fecha_hora.year\n",
    "print(\"el mes es:\" , mes)\n",
    "print(\"el año es \", anyo)"
   ]
  },
  {
   "cell_type": "markdown",
   "metadata": {},
   "source": [
    "Las clases también contienen métodos, o funciones asociadas al comportamiento de la clase"
   ]
  },
  {
   "cell_type": "code",
   "execution_count": 10,
   "metadata": {},
   "outputs": [
    {
     "name": "stdout",
     "output_type": "stream",
     "text": [
      "May 03 2022 21:06:09\n"
     ]
    }
   ],
   "source": [
    "print(fecha_hora.strftime(\"%b %d %Y %H:%M:%S\")) #Devuelve una cadena de texto con la fecha"
   ]
  },
  {
   "cell_type": "code",
   "execution_count": 11,
   "metadata": {},
   "outputs": [
    {
     "data": {
      "text/plain": [
       "'Tue May  3 21:06:09 2022'"
      ]
     },
     "execution_count": 11,
     "metadata": {},
     "output_type": "execute_result"
    }
   ],
   "source": [
    "fecha_hora.ctime()"
   ]
  },
  {
   "cell_type": "code",
   "execution_count": 12,
   "metadata": {},
   "outputs": [
    {
     "name": "stdout",
     "output_type": "stream",
     "text": [
      "\u001b[0;31mType:\u001b[0m        datetime\n",
      "\u001b[0;31mString form:\u001b[0m 2022-05-03 21:06:09.169365\n",
      "\u001b[0;31mFile:\u001b[0m        /usr/lib/python3.9/datetime.py\n",
      "\u001b[0;31mDocstring:\u001b[0m  \n",
      "datetime(year, month, day[, hour[, minute[, second[, microsecond[,tzinfo]]]]])\n",
      "\n",
      "The year, month and day arguments are required. tzinfo may be None, or an\n",
      "instance of a tzinfo subclass. The remaining arguments may be ints.\n"
     ]
    }
   ],
   "source": [
    "fecha_hora?"
   ]
  },
  {
   "cell_type": "markdown",
   "metadata": {},
   "source": [
    "Para crear una clase usamos la palabra reservada class, en su interior se definen metodos y atributos"
   ]
  },
  {
   "cell_type": "markdown",
   "metadata": {},
   "source": [
    "Para crear una clase usamos la palabra reservada class\n",
    "Para crear metodos usamos def\n",
    "self se refiere a los elementos(atributos y metodos) de la misma clase"
   ]
  },
  {
   "cell_type": "code",
   "execution_count": 14,
   "metadata": {},
   "outputs": [],
   "source": [
    "class Persona():\n",
    "    def asignar_nombre(self,nombre):\n",
    "        self.nombre = nombre\n",
    "    def saluda(self):\n",
    "        print(\"hola, soy {}\".format(self.nombre))"
   ]
  },
  {
   "cell_type": "markdown",
   "metadata": {},
   "source": [
    "Crea objetos de clase persona"
   ]
  },
  {
   "cell_type": "code",
   "execution_count": 15,
   "metadata": {},
   "outputs": [],
   "source": [
    "doctor = Persona()\n",
    "ingeniero = Persona()"
   ]
  },
  {
   "cell_type": "code",
   "execution_count": 16,
   "metadata": {},
   "outputs": [
    {
     "ename": "AttributeError",
     "evalue": "'Persona' object has no attribute 'nombre'",
     "output_type": "error",
     "traceback": [
      "\u001b[0;31m---------------------------------------------------------------------------\u001b[0m",
      "\u001b[0;31mAttributeError\u001b[0m                            Traceback (most recent call last)",
      "\u001b[1;32m/home/daniel/Desktop/B1-Programación-con-Python-2020/Sesion-04/sesion-04.ipynb Cell 18'\u001b[0m in \u001b[0;36m<cell line: 1>\u001b[0;34m()\u001b[0m\n\u001b[0;32m----> <a href='vscode-notebook-cell:/home/daniel/Desktop/B1-Programaci%C3%B3n-con-Python-2020/Sesion-04/sesion-04.ipynb#ch0000018?line=0'>1</a>\u001b[0m doctor\u001b[39m.\u001b[39;49mnombre\n",
      "\u001b[0;31mAttributeError\u001b[0m: 'Persona' object has no attribute 'nombre'"
     ]
    }
   ],
   "source": [
    "doctor.nombre"
   ]
  },
  {
   "cell_type": "markdown",
   "metadata": {},
   "source": [
    "Asignar a atributos"
   ]
  },
  {
   "cell_type": "code",
   "execution_count": 17,
   "metadata": {},
   "outputs": [],
   "source": [
    "doctor.nombre = \"Juan\""
   ]
  },
  {
   "cell_type": "code",
   "execution_count": 18,
   "metadata": {},
   "outputs": [
    {
     "data": {
      "text/plain": [
       "'Juan'"
      ]
     },
     "execution_count": 18,
     "metadata": {},
     "output_type": "execute_result"
    }
   ],
   "source": [
    "doctor.nombre"
   ]
  },
  {
   "cell_type": "markdown",
   "metadata": {},
   "source": [
    "Usa Metodos de clase"
   ]
  },
  {
   "cell_type": "code",
   "execution_count": 19,
   "metadata": {},
   "outputs": [],
   "source": [
    "doctor.asignar_nombre(\"Raul\")"
   ]
  },
  {
   "cell_type": "markdown",
   "metadata": {},
   "source": [
    "Accede a atributos"
   ]
  },
  {
   "cell_type": "code",
   "execution_count": 20,
   "metadata": {},
   "outputs": [
    {
     "data": {
      "text/plain": [
       "'Raul'"
      ]
     },
     "execution_count": 20,
     "metadata": {},
     "output_type": "execute_result"
    }
   ],
   "source": [
    "doctor.nombre"
   ]
  },
  {
   "cell_type": "code",
   "execution_count": 21,
   "metadata": {},
   "outputs": [
    {
     "ename": "TypeError",
     "evalue": "Persona() takes no arguments",
     "output_type": "error",
     "traceback": [
      "\u001b[0;31m---------------------------------------------------------------------------\u001b[0m",
      "\u001b[0;31mTypeError\u001b[0m                                 Traceback (most recent call last)",
      "\u001b[1;32m/home/daniel/Desktop/B1-Programación-con-Python-2020/Sesion-04/sesion-04.ipynb Cell 23'\u001b[0m in \u001b[0;36m<cell line: 1>\u001b[0;34m()\u001b[0m\n\u001b[0;32m----> <a href='vscode-notebook-cell:/home/daniel/Desktop/B1-Programaci%C3%B3n-con-Python-2020/Sesion-04/sesion-04.ipynb#ch0000023?line=0'>1</a>\u001b[0m maestro \u001b[39m=\u001b[39m Persona(\u001b[39m\"\u001b[39;49m\u001b[39mManuel\u001b[39;49m\u001b[39m\"\u001b[39;49m)\n",
      "\u001b[0;31mTypeError\u001b[0m: Persona() takes no arguments"
     ]
    }
   ],
   "source": [
    "maestro = Persona(\"Manuel\")"
   ]
  },
  {
   "cell_type": "code",
   "execution_count": 22,
   "metadata": {},
   "outputs": [],
   "source": [
    "doctor.asignar_nombre(\"Curie\")"
   ]
  },
  {
   "cell_type": "markdown",
   "metadata": {},
   "source": [
    "Accede a atributos"
   ]
  },
  {
   "cell_type": "code",
   "execution_count": 23,
   "metadata": {},
   "outputs": [
    {
     "data": {
      "text/plain": [
       "'Curie'"
      ]
     },
     "execution_count": 23,
     "metadata": {},
     "output_type": "execute_result"
    }
   ],
   "source": [
    "doctor.nombre"
   ]
  },
  {
   "cell_type": "code",
   "execution_count": 24,
   "metadata": {},
   "outputs": [
    {
     "data": {
      "text/plain": [
       "<__main__.Persona at 0x7fb27c2aad30>"
      ]
     },
     "execution_count": 24,
     "metadata": {},
     "output_type": "execute_result"
    }
   ],
   "source": [
    "doctor"
   ]
  },
  {
   "cell_type": "code",
   "execution_count": 25,
   "metadata": {},
   "outputs": [
    {
     "name": "stdout",
     "output_type": "stream",
     "text": [
      "hola, soy Curie\n"
     ]
    }
   ],
   "source": [
    "doctor.saluda()"
   ]
  },
  {
   "cell_type": "code",
   "execution_count": 26,
   "metadata": {},
   "outputs": [
    {
     "ename": "AttributeError",
     "evalue": "'Persona' object has no attribute 'nombre'",
     "output_type": "error",
     "traceback": [
      "\u001b[0;31m---------------------------------------------------------------------------\u001b[0m",
      "\u001b[0;31mAttributeError\u001b[0m                            Traceback (most recent call last)",
      "\u001b[1;32m/home/daniel/Desktop/B1-Programación-con-Python-2020/Sesion-04/sesion-04.ipynb Cell 32'\u001b[0m in \u001b[0;36m<cell line: 1>\u001b[0;34m()\u001b[0m\n\u001b[0;32m----> <a href='vscode-notebook-cell:/home/daniel/Desktop/B1-Programaci%C3%B3n-con-Python-2020/Sesion-04/sesion-04.ipynb#ch0000030?line=0'>1</a>\u001b[0m ingeniero\u001b[39m.\u001b[39;49msaluda()\n",
      "\u001b[1;32m/home/daniel/Desktop/B1-Programación-con-Python-2020/Sesion-04/sesion-04.ipynb Cell 15'\u001b[0m in \u001b[0;36mPersona.saluda\u001b[0;34m(self)\u001b[0m\n\u001b[1;32m      <a href='vscode-notebook-cell:/home/daniel/Desktop/B1-Programaci%C3%B3n-con-Python-2020/Sesion-04/sesion-04.ipynb#ch0000013?line=3'>4</a>\u001b[0m \u001b[39mdef\u001b[39;00m \u001b[39msaluda\u001b[39m(\u001b[39mself\u001b[39m):\n\u001b[0;32m----> <a href='vscode-notebook-cell:/home/daniel/Desktop/B1-Programaci%C3%B3n-con-Python-2020/Sesion-04/sesion-04.ipynb#ch0000013?line=4'>5</a>\u001b[0m     \u001b[39mprint\u001b[39m(\u001b[39m\"\u001b[39m\u001b[39mhola, soy \u001b[39m\u001b[39m{}\u001b[39;00m\u001b[39m\"\u001b[39m\u001b[39m.\u001b[39mformat(\u001b[39mself\u001b[39;49m\u001b[39m.\u001b[39;49mnombre))\n",
      "\u001b[0;31mAttributeError\u001b[0m: 'Persona' object has no attribute 'nombre'"
     ]
    }
   ],
   "source": [
    "ingeniero.saluda()"
   ]
  },
  {
   "cell_type": "markdown",
   "metadata": {},
   "source": [
    "## Ejemplo 2"
   ]
  },
  {
   "cell_type": "markdown",
   "metadata": {},
   "source": [
    "Los métodos son funciones asociadas al comportamiento de los objetos de cierta clase, deben definirse usando init en el cuerpo de la clase.\n",
    "\n",
    "En el ejemplo persona.py se crearon tres metodos"
   ]
  },
  {
   "cell_type": "code",
   "execution_count": 27,
   "metadata": {},
   "outputs": [],
   "source": [
    "class Persona():\n",
    "\n",
    "    def asignar_nombre(self, nombre):\n",
    "        self.nombre = nombre\n",
    "\n",
    "    def saluda(self):\n",
    "        print(\"hola, soy {}\".format(self.nombre))\n",
    "\n",
    "    def get_nombre(self):\n",
    "        return self.nombre"
   ]
  },
  {
   "cell_type": "markdown",
   "metadata": {},
   "source": [
    "Como las funciones, los metodos pueden tener parametros (ver asignar_nombre) o retornar valores (ver get_nombre).\n",
    "\n",
    "La palabra self, apunta a los atributos y métodos de la clase. Es importante incluirla en la definición de los métodos.\n",
    "\n",
    "Todas las clases en Python 3 cuentan con ciertos métodos integrados, que sirven de apoyo y mejor uso de los objetos. Algunas importantes son:"
   ]
  },
  {
   "cell_type": "markdown",
   "metadata": {},
   "source": [
    "\n",
    "* init - Llamada al crear un objeto, se le conoce como constructor o inicializador.\n",
    "* del - Llamada a punto de destruir un objeto, se le conoce como destructor.\n",
    "* str - Representación en string de un objeto.\n",
    "* bool - Para evaluar el objeto como booleano.\n"
   ]
  },
  {
   "cell_type": "markdown",
   "metadata": {},
   "source": [
    "```Python\n",
    "class MiClase():\n",
    "    def __init__(self):\n",
    "        print(\"Objeto de clase MiClase creado\")\n",
    "    \n",
    "    def __del__(self):\n",
    "        print(\"Objeto de clase MiClase destruido\")\n",
    "    \n",
    "    def __str__(self):\n",
    "        return \"Objeto de clase MiClase\"\n",
    "\n",
    "#Llama a __init__\n",
    "objeto = MiClase()\n",
    "\n",
    "#Llama a _str__\n",
    "print(objeto)\n",
    "\n",
    "#__del__ se llama automaticamente cuando el objeto ya no se utilizará al final del programa o cuando se elimina con la función del()\n",
    "del(objeto)\n",
    "```"
   ]
  },
  {
   "cell_type": "markdown",
   "metadata": {},
   "source": [
    "\n",
    "\n",
    "Usualmente en el constructor se obtienen parametros de la clase, a diferencia de otros lenguajes de programación en Python no se pueden incluir múltiples constructores, pero si se usan parametros nombrados, se pueden poner valores por default."
   ]
  },
  {
   "cell_type": "markdown",
   "metadata": {},
   "source": [
    "#Ejemplo de clase con constructor y __str__"
   ]
  },
  {
   "cell_type": "code",
   "execution_count": 28,
   "metadata": {},
   "outputs": [],
   "source": [
    "\n",
    "class Mascota:\n",
    "    def __init__(self,especie = 'animal' , edad = 0):\n",
    "        self.especie = especie\n",
    "        self.edad = edad\n",
    "    def __str__(self):\n",
    "        return \"Es un {} de {} años\".format(self.especie, self.edad)"
   ]
  },
  {
   "cell_type": "markdown",
   "metadata": {},
   "source": [
    "Clases creadas con diferentes parámetros   "
   ]
  },
  {
   "cell_type": "code",
   "execution_count": 29,
   "metadata": {},
   "outputs": [
    {
     "name": "stdout",
     "output_type": "stream",
     "text": [
      "Es un gato de 2 años\n",
      "Es un perro de 0 años\n",
      "Es un animal de 2 años\n"
     ]
    }
   ],
   "source": [
    "michi = Mascota(especie='gato', edad= 2)\n",
    "print(michi)\n",
    "\n",
    "rufo = Mascota(especie='perro')\n",
    "print(rufo)\n",
    "\n",
    "bicho = Mascota(edad=2)\n",
    "print(bicho)"
   ]
  },
  {
   "cell_type": "markdown",
   "metadata": {},
   "source": [
    "## Ejemplo 4"
   ]
  },
  {
   "cell_type": "code",
   "execution_count": null,
   "metadata": {},
   "outputs": [],
   "source": []
  }
 ],
 "metadata": {
  "interpreter": {
   "hash": "f9f85f796d01129d0dd105a088854619f454435301f6ffec2fea96ecbd9be4ac"
  },
  "kernelspec": {
   "display_name": "Python 3.9.5 64-bit",
   "language": "python",
   "name": "python3"
  },
  "language_info": {
   "codemirror_mode": {
    "name": "ipython",
    "version": 3
   },
   "file_extension": ".py",
   "mimetype": "text/x-python",
   "name": "python",
   "nbconvert_exporter": "python",
   "pygments_lexer": "ipython3",
   "version": "3.9.5"
  },
  "orig_nbformat": 4
 },
 "nbformat": 4,
 "nbformat_minor": 2
}

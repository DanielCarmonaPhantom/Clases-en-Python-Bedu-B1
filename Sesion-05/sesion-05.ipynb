{
 "cells": [
  {
   "cell_type": "markdown",
   "metadata": {},
   "source": [
    "# Sesion 5"
   ]
  },
  {
   "cell_type": "markdown",
   "metadata": {},
   "source": [
    "## Ejemplo 1 Polimorfismo"
   ]
  },
  {
   "cell_type": "code",
   "execution_count": 1,
   "metadata": {},
   "outputs": [],
   "source": [
    "class Punto:\n",
    "    def __init__(self,x = 0,y = 0):\n",
    "        self.x = x\n",
    "        self.y = y\n",
    "    def __add__(self,other):\n",
    "        x = self.x + other.x\n",
    "        y = self.y + other.y\n",
    "        return x, y"
   ]
  },
  {
   "cell_type": "code",
   "execution_count": 2,
   "metadata": {},
   "outputs": [
    {
     "name": "stdout",
     "output_type": "stream",
     "text": [
      "(5, 4)\n"
     ]
    }
   ],
   "source": [
    "punto1 = Punto(4,6)\n",
    "punto2 = Punto(1,-2)\n",
    "print (punto1 + punto2)"
   ]
  },
  {
   "cell_type": "markdown",
   "metadata": {},
   "source": [
    "## Ejemplo 2 Decoradores"
   ]
  },
  {
   "cell_type": "markdown",
   "metadata": {},
   "source": [
    "class Producto:\n",
    "    def __init__(self, nombre, precio_unitario, cantidad):\n",
    "        self.nombre = nombre\n",
    "        self.precio_unitario = precio_unitario\n",
    "        self.cantidad = cantidad\n",
    "\n",
    "    @property\n",
    "    def subtotal(self):\n",
    "        return self.precio_unitario * self.cantidad\n",
    "\n",
    "    def __str__(self):\n",
    "        return self.nombre\n",
    "\n",
    "\n",
    "def main():\n",
    "    producto_uno = Producto(\"Alcohol\", 750,  3)\n",
    "    producto_dos = Producto(\"Coca\", 250 , 5)\n",
    "\n",
    "    print(producto_uno, producto_uno.subtotal)\n",
    "    print(producto_dos, producto_dos.subtotal)\n",
    "\n",
    "\n",
    "if __name__ == \"__main__\":\n",
    "    main()"
   ]
  },
  {
   "cell_type": "markdown",
   "metadata": {},
   "source": [
    "## Ejemplo 3 Manejo de errores y excepciones"
   ]
  },
  {
   "cell_type": "markdown",
   "metadata": {},
   "source": [
    "Usualmente, cuando se produce un error durante el tiempo de ejecución el programa se detiene imprimiendo en la terminal el tipo de error.\n",
    "\n",
    "Por ejemplo si tratamos de dividir entre 0, nos arroja el siguiente error"
   ]
  },
  {
   "cell_type": "code",
   "execution_count": 3,
   "metadata": {},
   "outputs": [
    {
     "name": "stdout",
     "output_type": "stream",
     "text": [
      "No puedes dividir entre 0\n"
     ]
    }
   ],
   "source": [
    "a = 4\n",
    "b = 0\n",
    "\n",
    "try:\n",
    "    c = a/b\n",
    "    print (\"El resultado de la división es {}\".format(c))\n",
    "except:\n",
    "    print(\"No puedes dividir entre 0\")"
   ]
  },
  {
   "cell_type": "markdown",
   "metadata": {},
   "source": [
    "\n",
    "\n",
    "Si se requiere tomar distintas medidas en caso de que haya distintos tipos de errores posibles, se pueden especificar en distintos except.\n",
    "\n",
    "En el siguiente ejemplo el último except maneja errore que no se han definido anteriormente."
   ]
  },
  {
   "cell_type": "code",
   "execution_count": 4,
   "metadata": {},
   "outputs": [
    {
     "name": "stdout",
     "output_type": "stream",
     "text": [
      "Alguna variable no fue definida\n"
     ]
    }
   ],
   "source": [
    "#Se pueden definir distintas medidas a tomar para distinto tipo de error\n",
    "try:\n",
    "    c = a/x\n",
    "except NameError:\n",
    "    print(\"Alguna variable no fue definida\")\n",
    "except ZeroDivisionError:\n",
    "    print(\"No puedes dividir entre 0\")\n",
    "except: #Si se cae en un error no definido anteriormente\n",
    "    print(\"Ocurrió otro error\")"
   ]
  },
  {
   "cell_type": "markdown",
   "metadata": {},
   "source": [
    "## Ejemplo 5"
   ]
  },
  {
   "cell_type": "code",
   "execution_count": 1,
   "metadata": {},
   "outputs": [],
   "source": [
    "import sqlite3"
   ]
  },
  {
   "cell_type": "code",
   "execution_count": 2,
   "metadata": {},
   "outputs": [],
   "source": [
    "def sql_connection(bd_name):\n",
    "\n",
    "    try:\n",
    "        conection = sqlite3.connect(bd_name)\n",
    "    except sqlite3.Error:\n",
    "        print(\"Error\")\n",
    "        sys.exit(1)\n",
    "        \n",
    "    cur = conection.cursor()\n",
    "\n",
    "    return (conection, cur)"
   ]
  },
  {
   "cell_type": "code",
   "execution_count": null,
   "metadata": {},
   "outputs": [],
   "source": []
  }
 ],
 "metadata": {
  "interpreter": {
   "hash": "36cf16204b8548560b1c020c4e8fb5b57f0e4c58016f52f2d4be01e192833930"
  },
  "kernelspec": {
   "display_name": "Python 3.9.5 64-bit",
   "language": "python",
   "name": "python3"
  },
  "language_info": {
   "codemirror_mode": {
    "name": "ipython",
    "version": 3
   },
   "file_extension": ".py",
   "mimetype": "text/x-python",
   "name": "python",
   "nbconvert_exporter": "python",
   "pygments_lexer": "ipython3",
   "version": "3.9.5"
  },
  "orig_nbformat": 4
 },
 "nbformat": 4,
 "nbformat_minor": 2
}

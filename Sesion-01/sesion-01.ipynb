{
 "cells": [
  {
   "cell_type": "markdown",
   "metadata": {},
   "source": [
    "# Sesión 1"
   ]
  },
  {
   "cell_type": "markdown",
   "metadata": {},
   "source": [
    "Creando un programa y ejecutando"
   ]
  },
  {
   "cell_type": "code",
   "execution_count": 2,
   "metadata": {},
   "outputs": [
    {
     "name": "stdout",
     "output_type": "stream",
     "text": [
      "Hola Mundo\n"
     ]
    }
   ],
   "source": [
    "print(\"Hola Mundo\")"
   ]
  },
  {
   "cell_type": "markdown",
   "metadata": {},
   "source": [
    "## Ejemplo 2"
   ]
  },
  {
   "cell_type": "markdown",
   "metadata": {},
   "source": [
    "### Tipos de dato"
   ]
  },
  {
   "cell_type": "markdown",
   "metadata": {},
   "source": [
    "* Numéricos\n",
    "    * int: Números enteros\n",
    "    * float: Números con punto flotante\n",
    "    * complex: Números complejos"
   ]
  },
  {
   "cell_type": "markdown",
   "metadata": {},
   "source": [
    "* Texto:\n",
    "    * string"
   ]
  },
  {
   "cell_type": "markdown",
   "metadata": {},
   "source": [
    "* Booleanos:\n",
    "    * True\n",
    "    * False"
   ]
  },
  {
   "cell_type": "markdown",
   "metadata": {},
   "source": [
    "Tipos de datos numéricos"
   ]
  },
  {
   "cell_type": "code",
   "execution_count": 3,
   "metadata": {},
   "outputs": [
    {
     "name": "stdout",
     "output_type": "stream",
     "text": [
      "El dato introducido contiene: 4\n",
      "Es de tipo: <class 'int'>\n"
     ]
    }
   ],
   "source": [
    "entero = 4\n",
    "print( \"El dato introducido contiene:\", entero )\n",
    "print( \"Es de tipo:\", type(entero) )"
   ]
  },
  {
   "cell_type": "code",
   "execution_count": 4,
   "metadata": {},
   "outputs": [
    {
     "name": "stdout",
     "output_type": "stream",
     "text": [
      "El dato introducido contiene: 3.14159\n",
      "Es de tipo: <class 'float'>\n"
     ]
    }
   ],
   "source": [
    "pi = 3.14159\n",
    "print(\"El dato introducido contiene:\", pi)\n",
    "print(\"Es de tipo:\", type(pi) )"
   ]
  },
  {
   "cell_type": "markdown",
   "metadata": {},
   "source": [
    "Cadenas de texto"
   ]
  },
  {
   "cell_type": "code",
   "execution_count": 5,
   "metadata": {},
   "outputs": [
    {
     "name": "stdout",
     "output_type": "stream",
     "text": [
      "El dato introducido contiene: Hola Mundo\n",
      "Es de tipo: <class 'str'>\n"
     ]
    }
   ],
   "source": [
    "mensaje = \"Hola Mundo\"\n",
    "print(\"El dato introducido contiene:\", mensaje)\n",
    "print(\"Es de tipo:\", type(mensaje) )\n"
   ]
  },
  {
   "cell_type": "markdown",
   "metadata": {},
   "source": [
    "Datos booleanos"
   ]
  },
  {
   "cell_type": "code",
   "execution_count": 6,
   "metadata": {},
   "outputs": [
    {
     "name": "stdout",
     "output_type": "stream",
     "text": [
      "El dato introducido contiene: True\n",
      "Es de tipo: <class 'bool'>\n"
     ]
    }
   ],
   "source": [
    "verdadero = True\n",
    "print(\"El dato introducido contiene:\", verdadero)\n",
    "print(\"Es de tipo:\", type(verdadero) )"
   ]
  },
  {
   "cell_type": "markdown",
   "metadata": {},
   "source": [
    "### Conversión de tipos de datos en Python"
   ]
  },
  {
   "cell_type": "markdown",
   "metadata": {},
   "source": [
    "Se puede definir números como cadenas si se encierran en comillas"
   ]
  },
  {
   "cell_type": "code",
   "execution_count": 7,
   "metadata": {},
   "outputs": [
    {
     "name": "stdout",
     "output_type": "stream",
     "text": [
      "<class 'str'> <class 'str'>\n"
     ]
    }
   ],
   "source": [
    "numero1 = \"100\"\n",
    "numero2 = \"3.14159\"\n",
    "print( type(numero1), type(numero1) )"
   ]
  },
  {
   "cell_type": "markdown",
   "metadata": {},
   "source": [
    "Para convertir a entero "
   ]
  },
  {
   "cell_type": "code",
   "execution_count": 8,
   "metadata": {},
   "outputs": [
    {
     "name": "stdout",
     "output_type": "stream",
     "text": [
      "<class 'int'>\n"
     ]
    }
   ],
   "source": [
    "entero = int(numero1)\n",
    "print( type(entero) )"
   ]
  },
  {
   "cell_type": "markdown",
   "metadata": {},
   "source": [
    "Para convertir a flotante"
   ]
  },
  {
   "cell_type": "code",
   "execution_count": 9,
   "metadata": {},
   "outputs": [
    {
     "name": "stdout",
     "output_type": "stream",
     "text": [
      "<class 'float'>\n"
     ]
    }
   ],
   "source": [
    "flotante = float(numero2)\n",
    "print( type(flotante) )"
   ]
  },
  {
   "cell_type": "markdown",
   "metadata": {},
   "source": [
    "También se puede convertir un número a cadena de texto"
   ]
  },
  {
   "cell_type": "code",
   "execution_count": 10,
   "metadata": {},
   "outputs": [
    {
     "name": "stdout",
     "output_type": "stream",
     "text": [
      "<class 'str'>\n"
     ]
    }
   ],
   "source": [
    "num = 300\n",
    "cadena = str(num)\n",
    "print(type(cadena))"
   ]
  },
  {
   "cell_type": "markdown",
   "metadata": {},
   "source": [
    "Leyendo una cadena"
   ]
  },
  {
   "cell_type": "code",
   "execution_count": 12,
   "metadata": {},
   "outputs": [
    {
     "name": "stdout",
     "output_type": "stream",
     "text": [
      "Daniel <class 'str'>\n"
     ]
    }
   ],
   "source": [
    "nombre = input(\"Dame tu nombre: \")\n",
    "print( nombre, type(nombre) )"
   ]
  },
  {
   "cell_type": "markdown",
   "metadata": {},
   "source": [
    "## Reto 1"
   ]
  },
  {
   "cell_type": "markdown",
   "metadata": {},
   "source": [
    "Crea el programa variables.py que realice lo siguiente:\n",
    "\n",
    "1. Recibe dos numeros desde la consola\n",
    "2. Convierte los números a variables enteras\n",
    "3. Realiza la operación a = b+c con las variables enteras\n",
    "4. Realiza la misma operación con las variables string\n",
    "5. Imprime los resultados para ambas operaciones\n",
    "6. ¿Hay Alguna diferencia?\n"
   ]
  },
  {
   "cell_type": "markdown",
   "metadata": {},
   "source": [
    "Inserta número: 10\n",
    "\n",
    "Inserta otro número: 20\n",
    "\n",
    "Suma numérica 30\n",
    "\n",
    "Concatenación 1020"
   ]
  },
  {
   "cell_type": "code",
   "execution_count": 15,
   "metadata": {},
   "outputs": [
    {
     "name": "stdout",
     "output_type": "stream",
     "text": [
      "Suma numérica 30\n",
      "Concatenación 1020\n"
     ]
    }
   ],
   "source": [
    "num1 = int(input(\"Inserta número: \"))\n",
    "num2 = int(input(\"Inserta otro número: \"))\n",
    "\n",
    "suma = num1 + num2\n",
    "\n",
    "print(f\"Suma numérica {suma}\")\n",
    "print(f\"Concatenación {str(num1) + str(num2)}\")"
   ]
  },
  {
   "cell_type": "markdown",
   "metadata": {},
   "source": [
    "## Ejemplo 3"
   ]
  },
  {
   "cell_type": "markdown",
   "metadata": {},
   "source": [
    "### Operadores aritmeticos y lógicos"
   ]
  },
  {
   "cell_type": "code",
   "execution_count": 26,
   "metadata": {},
   "outputs": [],
   "source": [
    "operando1 = 6\n",
    "operando2  = 10\n",
    "incremento = 0"
   ]
  },
  {
   "cell_type": "markdown",
   "metadata": {},
   "source": [
    "Operadores aritmeticos"
   ]
  },
  {
   "cell_type": "code",
   "execution_count": 27,
   "metadata": {},
   "outputs": [
    {
     "name": "stdout",
     "output_type": "stream",
     "text": [
      "La suma de los valores es:\n",
      "16\n"
     ]
    }
   ],
   "source": [
    "suma = operando1 + operando2\n",
    "print(\"La suma de los valores es:\")\n",
    "print(suma)"
   ]
  },
  {
   "cell_type": "code",
   "execution_count": 28,
   "metadata": {},
   "outputs": [
    {
     "name": "stdout",
     "output_type": "stream",
     "text": [
      "El resultado de la multiplicacion es\n",
      "60\n"
     ]
    }
   ],
   "source": [
    "producto = operando1 * operando2\n",
    "print(\"El resultado de la multiplicacion es\")\n",
    "print(producto)"
   ]
  },
  {
   "cell_type": "code",
   "execution_count": 29,
   "metadata": {},
   "outputs": [
    {
     "name": "stdout",
     "output_type": "stream",
     "text": [
      "El división de la multiplicacion es\n",
      "0.6\n"
     ]
    }
   ],
   "source": [
    "producto = operando1 / operando2\n",
    "print(\"El división de la multiplicacion es\")\n",
    "print(producto)"
   ]
  },
  {
   "cell_type": "code",
   "execution_count": 30,
   "metadata": {},
   "outputs": [
    {
     "name": "stdout",
     "output_type": "stream",
     "text": [
      "El resultado es\n",
      "1\n"
     ]
    }
   ],
   "source": [
    "incremento += 1\n",
    "print(\"El resultado es\")\n",
    "print(incremento)"
   ]
  },
  {
   "cell_type": "markdown",
   "metadata": {},
   "source": [
    "Operadores lógicos"
   ]
  },
  {
   "cell_type": "code",
   "execution_count": 31,
   "metadata": {},
   "outputs": [],
   "source": [
    "operando3 = True\n",
    "operando4 = False"
   ]
  },
  {
   "cell_type": "code",
   "execution_count": 32,
   "metadata": {},
   "outputs": [
    {
     "name": "stdout",
     "output_type": "stream",
     "text": [
      "El resultado de la AND es\n",
      "False\n"
     ]
    }
   ],
   "source": [
    "compuerta_and = operando3 and operando4\n",
    "print(\"El resultado de la AND es\")\n",
    "print(compuerta_and)"
   ]
  },
  {
   "cell_type": "code",
   "execution_count": 33,
   "metadata": {},
   "outputs": [
    {
     "name": "stdout",
     "output_type": "stream",
     "text": [
      "Esto es una negación\n",
      "False\n"
     ]
    }
   ],
   "source": [
    "negando = not operando3\n",
    "print(\"Esto es una negación\")\n",
    "print(negando)"
   ]
  },
  {
   "cell_type": "markdown",
   "metadata": {},
   "source": [
    "## Reto 2"
   ]
  },
  {
   "cell_type": "markdown",
   "metadata": {},
   "source": [
    "Crea el programa que solicite 2 numeros e imprima los siguientes resultados\n",
    "\n"
   ]
  },
  {
   "cell_type": "markdown",
   "metadata": {},
   "source": [
    "Resta usando el operador -\n",
    "\n",
    "Modulo usando el operador %\n"
   ]
  },
  {
   "cell_type": "markdown",
   "metadata": {},
   "source": [
    "```Bash\n",
    "Escribe el número a: 10\n",
    "Escribe el número b: 14\n",
    "\n",
    "\n",
    "La resta de los numeros es: -4\n",
    "El modulo de estos numeros es: 10\n",
    "Operacion or de un true y un false es: True\n",
    "```"
   ]
  },
  {
   "cell_type": "code",
   "execution_count": 34,
   "metadata": {},
   "outputs": [
    {
     "name": "stdout",
     "output_type": "stream",
     "text": [
      "La resta de los números es: -14\n",
      "El módulo de estos números es: 6\n",
      "Operación or de un true y un false es: True\n"
     ]
    }
   ],
   "source": [
    "num1 = int(input(\"Escribe el número a: \"))\n",
    "num2 = int(input(\"Escribe el número b: \"))\n",
    "\n",
    "resta = num1-num2\n",
    "modulo = num1%num2\n",
    "operador = True or False\n",
    "\n",
    "print(f'La resta de los números es: {resta}')\n",
    "print(f'El módulo de estos números es: {modulo}')\n",
    "print(f'Operación or de un true y un false es: {operador}')"
   ]
  },
  {
   "cell_type": "markdown",
   "metadata": {},
   "source": [
    "### Ejemplo 4"
   ]
  },
  {
   "cell_type": "markdown",
   "metadata": {},
   "source": [
    "### Cadenas de texto y format"
   ]
  },
  {
   "cell_type": "markdown",
   "metadata": {},
   "source": [
    "Creando una variable de tipo string o cadena de texto"
   ]
  },
  {
   "cell_type": "code",
   "execution_count": 17,
   "metadata": {},
   "outputs": [],
   "source": [
    "d = \"Hola mundo\""
   ]
  },
  {
   "cell_type": "markdown",
   "metadata": {},
   "source": [
    "Podemos imprimir su contenido escribiendo sólo el nombre de la variable"
   ]
  },
  {
   "cell_type": "code",
   "execution_count": 18,
   "metadata": {},
   "outputs": [
    {
     "data": {
      "text/plain": [
       "'Hola mundo'"
      ]
     },
     "execution_count": 18,
     "metadata": {},
     "output_type": "execute_result"
    }
   ],
   "source": [
    "\n",
    "d"
   ]
  },
  {
   "cell_type": "markdown",
   "metadata": {},
   "source": [
    "Podemos comprobar el tipo de dato con type()"
   ]
  },
  {
   "cell_type": "code",
   "execution_count": 19,
   "metadata": {},
   "outputs": [
    {
     "data": {
      "text/plain": [
       "str"
      ]
     },
     "execution_count": 19,
     "metadata": {},
     "output_type": "execute_result"
    }
   ],
   "source": [
    "type(d)"
   ]
  },
  {
   "cell_type": "markdown",
   "metadata": {},
   "source": [
    "Podemos utilizar comillas simples, o tres comillas dobles\n"
   ]
  },
  {
   "cell_type": "code",
   "execution_count": 21,
   "metadata": {},
   "outputs": [],
   "source": [
    "e = 'Saludos'\n",
    "f = \"\"\"\n",
    "-------------------------------------------\n",
    "What's your name?\n",
    "\"\"\""
   ]
  },
  {
   "cell_type": "markdown",
   "metadata": {},
   "source": [
    "Las cadenas pueden tener unicamente 1 caracter, o incluso 0"
   ]
  },
  {
   "cell_type": "code",
   "execution_count": 22,
   "metadata": {},
   "outputs": [
    {
     "data": {
      "text/plain": [
       "'a'"
      ]
     },
     "execution_count": 22,
     "metadata": {},
     "output_type": "execute_result"
    }
   ],
   "source": [
    "un_caracter = 'a'\n",
    "un_caracter"
   ]
  },
  {
   "cell_type": "code",
   "execution_count": 23,
   "metadata": {},
   "outputs": [
    {
     "data": {
      "text/plain": [
       "''"
      ]
     },
     "execution_count": 23,
     "metadata": {},
     "output_type": "execute_result"
    }
   ],
   "source": [
    "cadena_vacia = ''\n",
    "cadena_vacia"
   ]
  },
  {
   "cell_type": "markdown",
   "metadata": {},
   "source": [
    "Operaciones con cadenas"
   ]
  },
  {
   "cell_type": "code",
   "execution_count": 25,
   "metadata": {},
   "outputs": [
    {
     "data": {
      "text/plain": [
       "'Hola Hola Hola Hola Hola '"
      ]
     },
     "execution_count": 25,
     "metadata": {},
     "output_type": "execute_result"
    }
   ],
   "source": [
    "\"Hola \" * 5"
   ]
  },
  {
   "cell_type": "markdown",
   "metadata": {},
   "source": [
    "Concatena cadenas"
   ]
  },
  {
   "cell_type": "code",
   "execution_count": 35,
   "metadata": {},
   "outputs": [
    {
     "data": {
      "text/plain": [
       "'Hola Mundo'"
      ]
     },
     "execution_count": 35,
     "metadata": {},
     "output_type": "execute_result"
    }
   ],
   "source": [
    "\"Hola\" + \" Mundo\""
   ]
  },
  {
   "cell_type": "markdown",
   "metadata": {},
   "source": [
    "La función format nos permite introducir argumentos dentro de cadenas de texto y darle formato."
   ]
  },
  {
   "cell_type": "markdown",
   "metadata": {},
   "source": [
    "format() sirve para añadir variables dentro de una cadena durante la ejecución"
   ]
  },
  {
   "cell_type": "code",
   "execution_count": 36,
   "metadata": {},
   "outputs": [
    {
     "name": "stdout",
     "output_type": "stream",
     "text": [
      "Hola, mi nombre es Luis\n"
     ]
    }
   ],
   "source": [
    "nombre = \"Luis\"  \n",
    "print(\"Hola, mi nombre es {}\".format(nombre)) # 'Hola!, mi nombre es Luis'"
   ]
  },
  {
   "cell_type": "markdown",
   "metadata": {},
   "source": [
    "Incluso se pueden agregar variables que no son cadenas"
   ]
  },
  {
   "cell_type": "code",
   "execution_count": 37,
   "metadata": {},
   "outputs": [
    {
     "name": "stdout",
     "output_type": "stream",
     "text": [
      "Tengo 28 años\n"
     ]
    }
   ],
   "source": [
    "edad = 28\n",
    "print(\"Tengo {} años\".format(edad))"
   ]
  },
  {
   "cell_type": "markdown",
   "metadata": {},
   "source": [
    "O se pueden agregar multiples datos"
   ]
  },
  {
   "cell_type": "code",
   "execution_count": 38,
   "metadata": {},
   "outputs": [
    {
     "name": "stdout",
     "output_type": "stream",
     "text": [
      "4 + 5 = 9\n"
     ]
    }
   ],
   "source": [
    "\n",
    "print(\"{} + {} = {}\".format(4, 5, 4+5))  # 4 + 5 = 9"
   ]
  },
  {
   "cell_type": "markdown",
   "metadata": {},
   "source": [
    "Otra forma de formatear texto en Python es por medio del uso de las f-string que nos permite dar formato de la siguiente manera:"
   ]
  },
  {
   "cell_type": "markdown",
   "metadata": {},
   "source": [
    "Añadir variables dentro de una cadena durante la ejecución"
   ]
  },
  {
   "cell_type": "code",
   "execution_count": 39,
   "metadata": {},
   "outputs": [
    {
     "name": "stdout",
     "output_type": "stream",
     "text": [
      "Hola, mi nombre es Luis\n"
     ]
    }
   ],
   "source": [
    "print( f\"Hola, mi nombre es {nombre}\" )"
   ]
  },
  {
   "cell_type": "markdown",
   "metadata": {},
   "source": [
    "Incluso se pueden agregar variables que no son cadenas"
   ]
  },
  {
   "cell_type": "code",
   "execution_count": 40,
   "metadata": {},
   "outputs": [
    {
     "name": "stdout",
     "output_type": "stream",
     "text": [
      "Tengo 28 años\n"
     ]
    }
   ],
   "source": [
    "print( f\"Tengo {edad} años\" )"
   ]
  },
  {
   "cell_type": "markdown",
   "metadata": {},
   "source": [
    "O se pueden agregar multiples datos"
   ]
  },
  {
   "cell_type": "code",
   "execution_count": 41,
   "metadata": {},
   "outputs": [
    {
     "name": "stdout",
     "output_type": "stream",
     "text": [
      "4 + 5 = 9\n"
     ]
    }
   ],
   "source": [
    "print( f\"{4} + {5} = {4+5}\" )"
   ]
  },
  {
   "cell_type": "markdown",
   "metadata": {},
   "source": [
    "## Reto 3"
   ]
  },
  {
   "cell_type": "markdown",
   "metadata": {},
   "source": [
    "Haz un programa que solicite un numero e imprima la tabla de multiplicar, usa format o f-strings para formatear el resultado en forma de tabla."
   ]
  },
  {
   "cell_type": "markdown",
   "metadata": {},
   "source": [
    "```\n",
    "print(\"¿Qué tabla quieres calcular?\") 7\n",
    "7 * 1 = 7\n",
    "7 * 2 = 14\n",
    "7 * 3 = 21\n",
    "7 * 4 = 28\n",
    "7 * 5 = 35\n",
    "7 * 6 = 42\n",
    "7 * 7 = 49\n",
    "7 * 8 = 56\n",
    "7 * 9 = 63\n",
    "7 * 10 = 70\n",
    "```"
   ]
  },
  {
   "cell_type": "code",
   "execution_count": 2,
   "metadata": {},
   "outputs": [
    {
     "name": "stdout",
     "output_type": "stream",
     "text": [
      "10 * 1 = 10\n",
      "10 * 2 = 20\n",
      "10 * 3 = 30\n",
      "10 * 4 = 40\n",
      "10 * 5 = 50\n",
      "10 * 6 = 60\n",
      "10 * 7 = 70\n",
      "10 * 8 = 80\n",
      "10 * 9 = 90\n",
      "10 * 10 = 100\n"
     ]
    }
   ],
   "source": [
    "def tablaMultiplicar(tabla):\n",
    "    for i in range(1,11):\n",
    "        print(f'{tabla} * {i} = {tabla*i}')\n",
    "    \n",
    "tabla = 10\n",
    "tablaMultiplicar(tabla)"
   ]
  },
  {
   "cell_type": "code",
   "execution_count": 1,
   "metadata": {},
   "outputs": [
    {
     "name": "stdout",
     "output_type": "stream",
     "text": [
      "7 * 1 = 7\n",
      "7 * 2 = 14\n",
      "7 * 3 = 21\n",
      "7 * 4 = 28\n",
      "7 * 5 = 35\n",
      "7 * 6 = 42\n",
      "7 * 7 = 49\n",
      "7 * 8 = 56\n",
      "7 * 9 = 63\n",
      "7 * 10 = 70\n",
      "\n"
     ]
    }
   ],
   "source": [
    "numero = int(input(\"¿Cúal tabla deseas ver? \"))\n",
    "print(\"\".join([str(numero)+\" * \"+str(i)+\" = \"+str(i*numero)+'\\n' for i in range(1,11)]))"
   ]
  },
  {
   "cell_type": "markdown",
   "metadata": {},
   "source": [
    "## Ejemplo 5"
   ]
  },
  {
   "cell_type": "markdown",
   "metadata": {},
   "source": [
    "### Condicionales if, elif, else"
   ]
  },
  {
   "cell_type": "markdown",
   "metadata": {},
   "source": [
    "```Python\n",
    "if condición:\n",
    "    aquí van las órdenes que se ejecutan si la condición es cierta\n",
    "    y que pueden ocupar varias líneas\n",
    "else:\n",
    "    y aquí van las órdenes que se ejecutan si la condición es\n",
    "    falsa y que también pueden ocupar varias líneas\n",
    "\n",
    "```"
   ]
  },
  {
   "cell_type": "markdown",
   "metadata": {},
   "source": [
    "If sirve para establecer una condición que de cumplirse ejecutará cierto código"
   ]
  },
  {
   "cell_type": "code",
   "execution_count": 3,
   "metadata": {},
   "outputs": [
    {
     "name": "stdout",
     "output_type": "stream",
     "text": [
      "La persona es mayor de edad\n"
     ]
    }
   ],
   "source": [
    "edad  = 25\n",
    "if edad > 18:\n",
    "    print (\"La persona es mayor de edad\")"
   ]
  },
  {
   "cell_type": "markdown",
   "metadata": {},
   "source": [
    "El código dentro de else se ejecutará cuando no se cumpla la condición entablecida en el if"
   ]
  },
  {
   "cell_type": "code",
   "execution_count": 4,
   "metadata": {},
   "outputs": [
    {
     "name": "stdout",
     "output_type": "stream",
     "text": [
      "Vas a una velocidad adecuada\n"
     ]
    }
   ],
   "source": [
    "velocidad = 70\n",
    "limite = 90\n",
    "\n",
    "if velocidad > limite:\n",
    "    print(\"Excedes el límite de velocidad\")\n",
    "else:\n",
    "    print(\"Vas a una velocidad adecuada\")"
   ]
  },
  {
   "cell_type": "markdown",
   "metadata": {},
   "source": [
    "En caso de tener varias opciones se puede usar Elif"
   ]
  },
  {
   "cell_type": "code",
   "execution_count": 5,
   "metadata": {},
   "outputs": [
    {
     "name": "stdout",
     "output_type": "stream",
     "text": [
      "El numero es positivo\n"
     ]
    }
   ],
   "source": [
    "numero = 7\n",
    "\n",
    "if numero == 0:\n",
    "    print(\"El número es 0\")\n",
    "elif numero > 0:\n",
    "    print(\"El numero es positivo\")\n",
    "else:\n",
    "    print(\"El numero es negativo\")"
   ]
  },
  {
   "cell_type": "markdown",
   "metadata": {},
   "source": [
    "![](https://github.com/rctorr/B1-Programacion-Con-Python-2020/raw/master/Sesion-01/Ejemplo-05/media/python-if.jpg)"
   ]
  },
  {
   "cell_type": "markdown",
   "metadata": {},
   "source": [
    "## Reto 4"
   ]
  },
  {
   "cell_type": "markdown",
   "metadata": {},
   "source": [
    "Escribe un programa que devuelva el precio de un helado solicitado por el cliente de acuerdo al topping:\n",
    "\n",
    "\n",
    "    Helado con oreo: $19\n",
    "    Helado con m&m: $25\n",
    "    Helado con fresas: $22\n",
    "    Helado con brownie: $28\n"
   ]
  },
  {
   "cell_type": "markdown",
   "metadata": {},
   "source": [
    "```Bash\n",
    "¿Qué topping quieres en tu helado?\n",
    "fresas\n",
    "El precio es $22\n",
    "```"
   ]
  },
  {
   "cell_type": "code",
   "execution_count": 20,
   "metadata": {},
   "outputs": [
    {
     "name": "stdout",
     "output_type": "stream",
     "text": [
      "El total de 3 helados de Oreo, Fresas, Browniees de es $ 57\n"
     ]
    }
   ],
   "source": [
    "sabores = []\n",
    "nombre_helados = []\n",
    "\n",
    "cantidad = int(input(\"¿Cuantos helados serían? \"))\n",
    "\n",
    "for i in range(cantidad): \n",
    "    sabor = input(f\"¿De que sabor sería el helado {i+1}? \")\n",
    "    nombre_helados.append(sabor)\n",
    "    if sabor.lower() == 'oreo':\n",
    "        sabores.append(19)\n",
    "    elif sabor.lower() == 'm&m':\n",
    "        sabores.append(19)\n",
    "    elif sabor.lower() == 'fresas':\n",
    "        sabores.append(19)\n",
    "    elif sabor.lower() == 'brownie':\n",
    "        sabores.append(19)\n",
    "    else:\n",
    "        print(\"No tenemos de ese sabor\")\n",
    "        nombre_helados.pop()\n",
    "    \n",
    "total = sum(sabores)     \n",
    "    \n",
    "print(f\"El total de {cantidad} helados de {', '.join(nombre_helados)}es de $ {total}\")\n",
    "\n",
    "        "
   ]
  },
  {
   "cell_type": "markdown",
   "metadata": {},
   "source": [
    "## Reto 5"
   ]
  },
  {
   "cell_type": "markdown",
   "metadata": {},
   "source": [
    "Crea una calculadora:\n",
    "\n",
    "    Se deben solicitar al usuario dos números\n",
    "\n",
    "    Se puede seleccionar entre diferentes operaciones(suma, resta, multiplicación y división).\n",
    "\n",
    "    Imprimir resultados\n",
    "\n",
    "    Considerar división entre cero y caracteres no definidos como operaciones.\n"
   ]
  },
  {
   "cell_type": "code",
   "execution_count": 21,
   "metadata": {},
   "outputs": [
    {
     "name": "stdout",
     "output_type": "stream",
     "text": [
      "El resultado de la operación de 5+10 es 15\n"
     ]
    }
   ],
   "source": [
    "numero1 = input(\"Dame el primer numero: \")\n",
    "numero2 = input(\"Dame el segundo numero \")\n",
    "\n",
    "operacion = input(\"Seleciona la operación (suma, resta, multiplicación o division\")\n",
    "\n",
    "if operacion == 'suma':\n",
    "    operacion = '+'\n",
    "elif operacion == 'resta':\n",
    "    operacion = '-'\n",
    "elif operacion == 'multiplicacion':\n",
    "    operacion = '*'\n",
    "elif operacion == 'division':\n",
    "    operacion = '/'\n",
    "\n",
    "print(f\"El resultado de la operación de {numero1}{operacion}{numero2} es {eval(numero1+operacion+numero2)}\")"
   ]
  }
 ],
 "metadata": {
  "interpreter": {
   "hash": "f9f85f796d01129d0dd105a088854619f454435301f6ffec2fea96ecbd9be4ac"
  },
  "kernelspec": {
   "display_name": "Python 3.9.5 64-bit",
   "language": "python",
   "name": "python3"
  },
  "language_info": {
   "codemirror_mode": {
    "name": "ipython",
    "version": 3
   },
   "file_extension": ".py",
   "mimetype": "text/x-python",
   "name": "python",
   "nbconvert_exporter": "python",
   "pygments_lexer": "ipython3",
   "version": "3.9.5"
  },
  "orig_nbformat": 4
 },
 "nbformat": 4,
 "nbformat_minor": 2
}
